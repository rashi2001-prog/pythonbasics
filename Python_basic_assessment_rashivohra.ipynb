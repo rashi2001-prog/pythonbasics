{
  "nbformat": 4,
  "nbformat_minor": 0,
  "metadata": {
    "colab": {
      "provenance": []
    },
    "kernelspec": {
      "name": "python3",
      "display_name": "Python 3"
    },
    "language_info": {
      "name": "python"
    }
  },
  "cells": [
    {
      "cell_type": "code",
      "source": [],
      "metadata": {
        "id": "AvO1iOC85w4e"
      },
      "execution_count": null,
      "outputs": []
    },
    {
      "cell_type": "markdown",
      "source": [
        "Python Basic Theory Questions\n",
        "\n",
        "q1) What is Python, and why is it popular?\n",
        "a) Python is a high-level and interpreted programming language. It is poplular because of its versatile uses and redability. Pyhton is popular among coders because it has a simple syntax, offers a large community and library, and is applicable across wide range of industries. It is used in AI, web development, and data science.\n",
        "\n",
        "Q2) What is an interpreter in Python?\n",
        "a) In python, an interpreter is the program that executes a code line-by-line. It allows interactive code running for easier developing and debugging of codes.\n",
        "\n",
        "Q3) What are pre-defined keywords in Python?\n",
        "a) In python, pre-defined keywords are special words that are reserved for a specific meaning and purpose in the language. For example, if, else, True, False, print, while, for are pre-defined keywords.\n",
        "\n",
        "Q4) Can keywords be used as variable names?\n",
        "a) Since keywords are only reserved for specific functions in the Python language, they CANNOT be used as variable names.\n",
        "\n",
        "Q5) What is mutability in Python?\n",
        "a) In python, mutability is when an object can change its content or state after its creation. For example, lists are mutable, so they can be changed. But, tuples are immutable and cannot be changed.\n",
        "\n",
        "Q6) Why are lists mutable, but tuples are immutable?\n",
        "a) Lists are mutable because they are designed to be changed after their creation. So, lists allow changes in its elements. Tuples, however, are immutable and do not allow changes in the elements. Therefore, they are fixed.\n",
        "\n",
        "Q7) What is the difference between “==” and “is” operators in Python?\n",
        "a) In python, \"==\" is used to check if the value of two objects are equal. \"is\" operator checks if two variables are the same object.\n",
        "\n",
        "Q8) What are logical operators in Python?\n",
        "a) Logical operators in python are used to combine more than one conditions. They include and, or, and not operators.\n",
        "\n",
        "Q9) What is type casting in Python?\n",
        "a) In python, typecasting is the process of conversion of one data type to another. For example, converting a string data type to an integer is type casting.\n",
        "\n",
        "Q10) What is the difference between implicit and explicit type casting?\n",
        "a) Implicit casting is the typecasting that Python does automatically. Explicit casting is done by functions like using int(), or str() to convert from one type to another.\n",
        "\n",
        "Q11) What is the purpose of conditional statements in Python?\n",
        "a) In python conditional statements allows it to run a particular block of code when a condition is either True or False. Condition statements are if, elif, and else.\n",
        "\n",
        "Q12) How does the elif statement work?\n",
        "a) The elif statement is used after an initial if statement. The elif statement is like an extra condition which will be executed only if the previous condition is false.\n",
        "\n",
        "Q13) What is the difference between for and while loops?\n",
        "a) A for loop is used when the number of iterations are known in advance. While loop is used when the number of Iterations are unknown or depend on a condition given.\n",
        "\n",
        "Q14) Describe a scenario where a while loop is more suitable than a for loop.\n",
        "a) A while loop is more suitable than a for loop when the code requires to continue looping until a particular condition is achieved or met."
      ],
      "metadata": {
        "id": "oPxPbbdL9RIo"
      }
    },
    {
      "cell_type": "markdown",
      "source": [
        "Python Basics Practical questions.\n",
        "\n",
        "q1) Write a Python program to print \"Hello, World!\""
      ],
      "metadata": {
        "id": "fVJu4i80DkzS"
      }
    },
    {
      "cell_type": "code",
      "source": [
        "print (\"Hello, World\")"
      ],
      "metadata": {
        "colab": {
          "base_uri": "https://localhost:8080/"
        },
        "id": "Oj9zqwr4D215",
        "outputId": "69c4fb94-d18f-446d-977f-f01cc0671c81"
      },
      "execution_count": null,
      "outputs": [
        {
          "output_type": "stream",
          "name": "stdout",
          "text": [
            "Hello, World\n"
          ]
        }
      ]
    },
    {
      "cell_type": "markdown",
      "source": [
        "q2) Write a Python program that displays your name and age."
      ],
      "metadata": {
        "id": "mFB94rWoD_wu"
      }
    },
    {
      "cell_type": "code",
      "source": [
        "name = \"Rashi Vohra\"\n",
        "age = 23\n",
        "print(f\"My name is {name} and I am {age} years old\")"
      ],
      "metadata": {
        "colab": {
          "base_uri": "https://localhost:8080/"
        },
        "id": "BU-IA5dJEMWF",
        "outputId": "075c5efc-ae3d-4884-9857-3371e5872644"
      },
      "execution_count": null,
      "outputs": [
        {
          "output_type": "stream",
          "name": "stdout",
          "text": [
            "My name is Rashi Vohra and I am 23 years old\n"
          ]
        }
      ]
    },
    {
      "cell_type": "markdown",
      "source": [
        "q3) Write code to print all the pre-defined keywords in Python using the keyword library."
      ],
      "metadata": {
        "id": "5MDzeSolEve0"
      }
    },
    {
      "cell_type": "code",
      "source": [
        "help('keywords')"
      ],
      "metadata": {
        "colab": {
          "base_uri": "https://localhost:8080/"
        },
        "id": "BT7UMEQ8E16U",
        "outputId": "7c12484b-7f75-4672-9d33-d61b075def6c"
      },
      "execution_count": null,
      "outputs": [
        {
          "output_type": "stream",
          "name": "stdout",
          "text": [
            "\n",
            "Here is a list of the Python keywords.  Enter any keyword to get more help.\n",
            "\n",
            "False               class               from                or\n",
            "None                continue            global              pass\n",
            "True                def                 if                  raise\n",
            "and                 del                 import              return\n",
            "as                  elif                in                  try\n",
            "assert              else                is                  while\n",
            "async               except              lambda              with\n",
            "await               finally             nonlocal            yield\n",
            "break               for                 not                 \n",
            "\n"
          ]
        }
      ]
    },
    {
      "cell_type": "markdown",
      "source": [
        "q4) Write a program that checks if a given word is a Python keyword."
      ],
      "metadata": {
        "id": "Bk7zAPNgFVmS"
      }
    },
    {
      "cell_type": "code",
      "source": [
        "import keyword\n",
        "word = input(\"Please enter the word: \")\n",
        "if keyword.iskeyword(word):\n",
        "  print(f\"{word} is a Python keyword.\")\n",
        "else:\n",
        "  print(f\"{word} is not a Python keyword.\")"
      ],
      "metadata": {
        "colab": {
          "base_uri": "https://localhost:8080/"
        },
        "id": "7LXPxEfrFcVo",
        "outputId": "04675bf1-0c16-4084-83ff-f66381c93fad"
      },
      "execution_count": null,
      "outputs": [
        {
          "output_type": "stream",
          "name": "stdout",
          "text": [
            "Please enter the word: False\n",
            "False is a Python keyword.\n"
          ]
        }
      ]
    },
    {
      "cell_type": "markdown",
      "source": [
        "q5) Create a list and tuple in Python, and demonstrate how attempting to change an element works differently for each."
      ],
      "metadata": {
        "id": "yaHZqtY6Gvec"
      }
    },
    {
      "cell_type": "code",
      "source": [
        "rashi_list = [2, 4, 8]\n",
        "rashi_list[1] = 5\n",
        "print(rashi_list)"
      ],
      "metadata": {
        "colab": {
          "base_uri": "https://localhost:8080/"
        },
        "id": "bXgWXthPGJQ9",
        "outputId": "2894b105-2a65-49d1-94e6-61efe23a9f82"
      },
      "execution_count": null,
      "outputs": [
        {
          "output_type": "stream",
          "name": "stdout",
          "text": [
            "[2, 5, 8]\n"
          ]
        }
      ]
    },
    {
      "cell_type": "code",
      "source": [
        "rashi_tuple = (2, 4, 8)\n",
        "rashi_tuple[1] = 6\n",
        "print(rashi_tuple)"
      ],
      "metadata": {
        "colab": {
          "base_uri": "https://localhost:8080/",
          "height": 176
        },
        "id": "KFMXiylDHPpf",
        "outputId": "8b8fb7e7-3982-4b3b-a84b-ebeb8f573758"
      },
      "execution_count": null,
      "outputs": [
        {
          "output_type": "error",
          "ename": "TypeError",
          "evalue": "'tuple' object does not support item assignment",
          "traceback": [
            "\u001b[0;31m---------------------------------------------------------------------------\u001b[0m",
            "\u001b[0;31mTypeError\u001b[0m                                 Traceback (most recent call last)",
            "\u001b[0;32m<ipython-input-15-97eee91f2221>\u001b[0m in \u001b[0;36m<cell line: 0>\u001b[0;34m()\u001b[0m\n\u001b[1;32m      1\u001b[0m \u001b[0mrashi_tuple\u001b[0m \u001b[0;34m=\u001b[0m \u001b[0;34m(\u001b[0m\u001b[0;36m2\u001b[0m\u001b[0;34m,\u001b[0m \u001b[0;36m4\u001b[0m\u001b[0;34m,\u001b[0m \u001b[0;36m8\u001b[0m\u001b[0;34m)\u001b[0m\u001b[0;34m\u001b[0m\u001b[0;34m\u001b[0m\u001b[0m\n\u001b[0;32m----> 2\u001b[0;31m \u001b[0mrashi_tuple\u001b[0m\u001b[0;34m[\u001b[0m\u001b[0;36m1\u001b[0m\u001b[0;34m]\u001b[0m \u001b[0;34m=\u001b[0m \u001b[0;36m6\u001b[0m\u001b[0;34m\u001b[0m\u001b[0;34m\u001b[0m\u001b[0m\n\u001b[0m\u001b[1;32m      3\u001b[0m \u001b[0mprint\u001b[0m\u001b[0;34m(\u001b[0m\u001b[0mrashi_tuple\u001b[0m\u001b[0;34m)\u001b[0m\u001b[0;34m\u001b[0m\u001b[0;34m\u001b[0m\u001b[0m\n",
            "\u001b[0;31mTypeError\u001b[0m: 'tuple' object does not support item assignment"
          ]
        }
      ]
    },
    {
      "cell_type": "markdown",
      "source": [
        "q6) Write a function to demonstrate the behavior of mutable and immutable arguments."
      ],
      "metadata": {
        "id": "KcXHhxwRHqYU"
      }
    },
    {
      "cell_type": "code",
      "source": [
        "#this is a mutable function\n",
        "my_list = [1,2,3]\n",
        "my_list[2] = 7\n",
        "print(my_list)"
      ],
      "metadata": {
        "colab": {
          "base_uri": "https://localhost:8080/"
        },
        "id": "Omu53AwYHnlN",
        "outputId": "8e587b71-14c0-4dc7-b7c1-79f9b44fb47b"
      },
      "execution_count": null,
      "outputs": [
        {
          "output_type": "stream",
          "name": "stdout",
          "text": [
            "[1, 2, 7]\n"
          ]
        }
      ]
    },
    {
      "cell_type": "code",
      "source": [
        "#this is immutable\n",
        "my_string = \"Rashi vohra\"\n",
        "my_string[2] = \"e\"\n",
        "print(my_string)"
      ],
      "metadata": {
        "colab": {
          "base_uri": "https://localhost:8080/",
          "height": 176
        },
        "id": "KQ8bSr19IqfQ",
        "outputId": "c850e558-a6f1-4842-8914-ad1b85a2c0a3"
      },
      "execution_count": null,
      "outputs": [
        {
          "output_type": "error",
          "ename": "TypeError",
          "evalue": "'str' object does not support item assignment",
          "traceback": [
            "\u001b[0;31m---------------------------------------------------------------------------\u001b[0m",
            "\u001b[0;31mTypeError\u001b[0m                                 Traceback (most recent call last)",
            "\u001b[0;32m<ipython-input-17-196d6557b036>\u001b[0m in \u001b[0;36m<cell line: 0>\u001b[0;34m()\u001b[0m\n\u001b[1;32m      1\u001b[0m \u001b[0mmy_string\u001b[0m \u001b[0;34m=\u001b[0m \u001b[0;34m\"Rashi vohra\"\u001b[0m\u001b[0;34m\u001b[0m\u001b[0;34m\u001b[0m\u001b[0m\n\u001b[0;32m----> 2\u001b[0;31m \u001b[0mmy_string\u001b[0m\u001b[0;34m[\u001b[0m\u001b[0;36m2\u001b[0m\u001b[0;34m]\u001b[0m \u001b[0;34m=\u001b[0m \u001b[0;34m\"e\"\u001b[0m\u001b[0;34m\u001b[0m\u001b[0;34m\u001b[0m\u001b[0m\n\u001b[0m\u001b[1;32m      3\u001b[0m \u001b[0mprint\u001b[0m\u001b[0;34m(\u001b[0m\u001b[0mmy_string\u001b[0m\u001b[0;34m)\u001b[0m\u001b[0;34m\u001b[0m\u001b[0;34m\u001b[0m\u001b[0m\n",
            "\u001b[0;31mTypeError\u001b[0m: 'str' object does not support item assignment"
          ]
        }
      ]
    },
    {
      "cell_type": "markdown",
      "source": [
        "q7) Write a program that performs basic arithmetic operations on two user-input numbers."
      ],
      "metadata": {
        "id": "h1nE9hF9JEXp"
      }
    },
    {
      "cell_type": "code",
      "source": [
        "number1 = int(input(\"Please enter the first number\"))\n",
        "number2 = int(input(\"Please enter the second number\"))\n",
        "\n",
        "print(\"Addition:\", number1 + number2)\n",
        "print(\"Subtraction:\", number1 - number2)\n",
        "print(\"Multiplication:\", number1 * number2)\n",
        "print(\"Division:\", number1 / number2)"
      ],
      "metadata": {
        "colab": {
          "base_uri": "https://localhost:8080/"
        },
        "id": "51FLhzPXI2w0",
        "outputId": "d83d7190-7951-4d41-a753-7fec53fcce97"
      },
      "execution_count": null,
      "outputs": [
        {
          "output_type": "stream",
          "name": "stdout",
          "text": [
            "Please enter the first number10\n",
            "Please enter the second number5\n",
            "Addition: 15\n",
            "Subtraction: 5\n",
            "Multiplication: 50\n",
            "Division: 2.0\n"
          ]
        }
      ]
    },
    {
      "cell_type": "markdown",
      "source": [
        "q8) Write a program to demonstrate the use of logical operators."
      ],
      "metadata": {
        "id": "PLDvShFBKnjj"
      }
    },
    {
      "cell_type": "code",
      "source": [
        "a = True\n",
        "b = False\n",
        "\n",
        "print(\"a and b:\", a and b)\n",
        "print(\"a or b:\", a or b)\n",
        "print(\"not a:\", not a)"
      ],
      "metadata": {
        "colab": {
          "base_uri": "https://localhost:8080/"
        },
        "id": "JPmSHZWTKUo2",
        "outputId": "5e73f0f9-e317-4dc9-8f63-d5b726153b66"
      },
      "execution_count": null,
      "outputs": [
        {
          "output_type": "stream",
          "name": "stdout",
          "text": [
            "a and b: False\n",
            "a or b: True\n",
            "not a: False\n"
          ]
        }
      ]
    },
    {
      "cell_type": "markdown",
      "source": [
        "q9)  Write a Python program to convert user input from string to integer, float, and boolean types."
      ],
      "metadata": {
        "id": "_Qus2n2cLUqA"
      }
    },
    {
      "cell_type": "code",
      "source": [
        "user_value = input(\"Please enter a number:\")\n",
        "\n",
        "print(\"Integer:\", int(user_value))\n",
        "print(\"Float:\", float(user_value))\n",
        "print(\"Boolean:\", bool(user_value))"
      ],
      "metadata": {
        "colab": {
          "base_uri": "https://localhost:8080/"
        },
        "id": "TUDDYfAtLStz",
        "outputId": "03d7db52-a767-4a64-d332-c4a07e04bb64"
      },
      "execution_count": null,
      "outputs": [
        {
          "output_type": "stream",
          "name": "stdout",
          "text": [
            "Please enter a number:5\n",
            "Integer: 5\n",
            "Float: 5.0\n",
            "Boolean: True\n"
          ]
        }
      ]
    },
    {
      "cell_type": "markdown",
      "source": [
        "q10) Write code to demonstrate type casting with list elements."
      ],
      "metadata": {
        "id": "TqeTflqIMNat"
      }
    },
    {
      "cell_type": "code",
      "source": [
        "str_list = [\"1\", \"2\", \"3\"]\n",
        "print(\"Integer list:\", list(map(int, str_list)))"
      ],
      "metadata": {
        "colab": {
          "base_uri": "https://localhost:8080/"
        },
        "id": "GS6UuqrwMJyT",
        "outputId": "4c6579d5-9abc-4094-c722-5f2469af7bfb"
      },
      "execution_count": null,
      "outputs": [
        {
          "output_type": "stream",
          "name": "stdout",
          "text": [
            "Integer list: [1, 2, 3]\n"
          ]
        }
      ]
    },
    {
      "cell_type": "markdown",
      "source": [
        "q11) Write a program that checks if a number is positive, negative, or zero."
      ],
      "metadata": {
        "id": "NJok13JENXYk"
      }
    },
    {
      "cell_type": "code",
      "source": [
        "number = float(input(\"Enter a number:\"))\n",
        "if number > 0:\n",
        "  print(\"Positive number\")\n",
        "elif number < 0:\n",
        "  print(\"Negative number\")\n",
        "else:\n",
        "  print(\"Zero\")"
      ],
      "metadata": {
        "colab": {
          "base_uri": "https://localhost:8080/"
        },
        "id": "krJTrFgiNLfP",
        "outputId": "e9a816cd-08e7-4f80-ae74-ebeec849ddc7"
      },
      "execution_count": null,
      "outputs": [
        {
          "output_type": "stream",
          "name": "stdout",
          "text": [
            "Enter a number:11\n",
            "Positive number\n"
          ]
        }
      ]
    },
    {
      "cell_type": "markdown",
      "source": [
        "q12) Write a for loop to print numbers from 1 to 10."
      ],
      "metadata": {
        "id": "ZliZ3OhdN8wY"
      }
    },
    {
      "cell_type": "code",
      "source": [
        "for i in range(1, 11):\n",
        "  print(i)"
      ],
      "metadata": {
        "colab": {
          "base_uri": "https://localhost:8080/"
        },
        "id": "BhcgvC9jN6e_",
        "outputId": "df6fa92d-304d-4098-c09b-d0962ff10ad3"
      },
      "execution_count": null,
      "outputs": [
        {
          "output_type": "stream",
          "name": "stdout",
          "text": [
            "1\n",
            "2\n",
            "3\n",
            "4\n",
            "5\n",
            "6\n",
            "7\n",
            "8\n",
            "9\n",
            "10\n"
          ]
        }
      ]
    },
    {
      "cell_type": "markdown",
      "source": [
        "q13) Write a Python program to find the sum of all even numbers between 1 and 50."
      ],
      "metadata": {
        "id": "lODH_Ij-OiWV"
      }
    },
    {
      "cell_type": "code",
      "source": [
        "total = 0\n",
        "for i in range(1, 51):\n",
        "  if i % 2 == 0:\n",
        "    total += i\n",
        "  print(\"Sum of even numbers from 1 to 51:\", total)"
      ],
      "metadata": {
        "colab": {
          "base_uri": "https://localhost:8080/"
        },
        "id": "l6hiPt3HOgIC",
        "outputId": "ebe0c2ec-4d44-467e-a7eb-2a2aa9eae83b"
      },
      "execution_count": null,
      "outputs": [
        {
          "output_type": "stream",
          "name": "stdout",
          "text": [
            "Sum of even numbers from 1 to 51: 0\n",
            "Sum of even numbers from 1 to 51: 2\n",
            "Sum of even numbers from 1 to 51: 2\n",
            "Sum of even numbers from 1 to 51: 6\n",
            "Sum of even numbers from 1 to 51: 6\n",
            "Sum of even numbers from 1 to 51: 12\n",
            "Sum of even numbers from 1 to 51: 12\n",
            "Sum of even numbers from 1 to 51: 20\n",
            "Sum of even numbers from 1 to 51: 20\n",
            "Sum of even numbers from 1 to 51: 30\n",
            "Sum of even numbers from 1 to 51: 30\n",
            "Sum of even numbers from 1 to 51: 42\n",
            "Sum of even numbers from 1 to 51: 42\n",
            "Sum of even numbers from 1 to 51: 56\n",
            "Sum of even numbers from 1 to 51: 56\n",
            "Sum of even numbers from 1 to 51: 72\n",
            "Sum of even numbers from 1 to 51: 72\n",
            "Sum of even numbers from 1 to 51: 90\n",
            "Sum of even numbers from 1 to 51: 90\n",
            "Sum of even numbers from 1 to 51: 110\n",
            "Sum of even numbers from 1 to 51: 110\n",
            "Sum of even numbers from 1 to 51: 132\n",
            "Sum of even numbers from 1 to 51: 132\n",
            "Sum of even numbers from 1 to 51: 156\n",
            "Sum of even numbers from 1 to 51: 156\n",
            "Sum of even numbers from 1 to 51: 182\n",
            "Sum of even numbers from 1 to 51: 182\n",
            "Sum of even numbers from 1 to 51: 210\n",
            "Sum of even numbers from 1 to 51: 210\n",
            "Sum of even numbers from 1 to 51: 240\n",
            "Sum of even numbers from 1 to 51: 240\n",
            "Sum of even numbers from 1 to 51: 272\n",
            "Sum of even numbers from 1 to 51: 272\n",
            "Sum of even numbers from 1 to 51: 306\n",
            "Sum of even numbers from 1 to 51: 306\n",
            "Sum of even numbers from 1 to 51: 342\n",
            "Sum of even numbers from 1 to 51: 342\n",
            "Sum of even numbers from 1 to 51: 380\n",
            "Sum of even numbers from 1 to 51: 380\n",
            "Sum of even numbers from 1 to 51: 420\n",
            "Sum of even numbers from 1 to 51: 420\n",
            "Sum of even numbers from 1 to 51: 462\n",
            "Sum of even numbers from 1 to 51: 462\n",
            "Sum of even numbers from 1 to 51: 506\n",
            "Sum of even numbers from 1 to 51: 506\n",
            "Sum of even numbers from 1 to 51: 552\n",
            "Sum of even numbers from 1 to 51: 552\n",
            "Sum of even numbers from 1 to 51: 600\n",
            "Sum of even numbers from 1 to 51: 600\n",
            "Sum of even numbers from 1 to 51: 650\n"
          ]
        }
      ]
    },
    {
      "cell_type": "markdown",
      "source": [
        "q14) Write a program to reverse a string using a while loop."
      ],
      "metadata": {
        "id": "F9wKgmUKPxjJ"
      }
    },
    {
      "cell_type": "code",
      "source": [
        "string = input(\"enter a string: \")\n",
        "reverse_string = \"\"\n",
        "i = len(string) - 1\n",
        "\n",
        "while i>= 0:\n",
        "  reverse_string += string[i]\n",
        "  i -= 1\n",
        "print(\"Reverse string:\", reverse_string)\n"
      ],
      "metadata": {
        "colab": {
          "base_uri": "https://localhost:8080/"
        },
        "id": "e00MTuprPVIA",
        "outputId": "f7a4ce58-ab21-4e70-cd44-b708c3a83101"
      },
      "execution_count": null,
      "outputs": [
        {
          "output_type": "stream",
          "name": "stdout",
          "text": [
            "enter a string: rashi\n",
            "Reverse string: ihsar\n"
          ]
        }
      ]
    },
    {
      "cell_type": "markdown",
      "source": [
        "q15) Write a Python program to calculate the factorial of a number provided by the user using a while loop."
      ],
      "metadata": {
        "id": "4uIM2T-cQimT"
      }
    },
    {
      "cell_type": "code",
      "source": [
        "number = int(input(\"Enter a number: \"))\n",
        "\n",
        "factorial = 1\n",
        "i = 1\n",
        "\n",
        "while i <= number:\n",
        "  factorial *= i\n",
        "  i += 1\n",
        "print(f\"The factorial of {number} is: {factorial}\")"
      ],
      "metadata": {
        "colab": {
          "base_uri": "https://localhost:8080/"
        },
        "id": "sJfSut8vQc9W",
        "outputId": "a957c4ee-5f06-4a41-c610-ff1fc7f3c1dc"
      },
      "execution_count": null,
      "outputs": [
        {
          "output_type": "stream",
          "name": "stdout",
          "text": [
            "Enter a number: 25\n",
            "The factorial of 25 is: 15511210043330985984000000\n"
          ]
        }
      ]
    },
    {
      "cell_type": "code",
      "source": [],
      "metadata": {
        "id": "6w40M5N0RFV1"
      },
      "execution_count": null,
      "outputs": []
    }
  ]
}